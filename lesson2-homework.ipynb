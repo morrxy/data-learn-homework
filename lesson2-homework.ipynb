{
 "cells": [
  {
   "cell_type": "code",
   "execution_count": 7,
   "metadata": {},
   "outputs": [
    {
     "name": "stdout",
     "output_type": "stream",
     "text": [
      "e g\n"
     ]
    }
   ],
   "source": [
    "#作业1：\n",
    "#下方是一个嵌套的列表，通过对x分割，打印“e”和“g”。\n",
    "#提示：使用 x[ ][ ]的形式。x如下：\n",
    "\n",
    "x = [[\"a\", \"b\", \"c\"],\n",
    "     [\"d\", \"e\", \"f\"],\n",
    "     [\"g\", \"h\", \"i\"]]\n",
    "\n",
    "print(x[1][1], x[2][0])"
   ]
  },
  {
   "cell_type": "code",
   "execution_count": 8,
   "metadata": {},
   "outputs": [
    {
     "name": "stdout",
     "output_type": "stream",
     "text": [
      "max:  小李 136\n",
      "min:  小张 17\n"
     ]
    }
   ],
   "source": [
    "#作业2：找最大值和最小值\n",
    "#以下给出一个团队中成员名和他们各自的微信好友数量，请模仿上述词频的例子，通过for循环找出团队中好友数最多和最少的两个人。如下：\n",
    "\n",
    "names = ['小赵','小钱','小孙','小李','小王','小张']\n",
    "friends = [45, 100, 67, 136, 77, 17]\n",
    "\n",
    "max_index, min_index = 0, 0\n",
    "\n",
    "for i, v in enumerate(friends):\n",
    "    if v > friends[max_index]:\n",
    "        max_index = i\n",
    "\n",
    "    if v < friends[min_index]:\n",
    "        min_index = i\n",
    "\n",
    "print('max: ', names[max_index], friends[max_index])\n",
    "print('min: ', names[min_index], friends[min_index])"
   ]
  },
  {
   "cell_type": "code",
   "execution_count": null,
   "metadata": {
    "collapsed": true
   },
   "outputs": [],
   "source": []
  }
 ],
 "metadata": {
  "kernelspec": {
   "display_name": "Python 3",
   "language": "python",
   "name": "python3"
  },
  "language_info": {
   "codemirror_mode": {
    "name": "ipython",
    "version": 3
   },
   "file_extension": ".py",
   "mimetype": "text/x-python",
   "name": "python",
   "nbconvert_exporter": "python",
   "pygments_lexer": "ipython3",
   "version": "3.6.1"
  }
 },
 "nbformat": 4,
 "nbformat_minor": 2
}
