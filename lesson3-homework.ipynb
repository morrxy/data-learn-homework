{
 "cells": [
  {
   "cell_type": "code",
   "execution_count": 1,
   "metadata": {},
   "outputs": [
    {
     "name": "stdout",
     "output_type": "stream",
     "text": [
      "paris\n",
      "{'spain': {'capital': 'madrid', 'population': 46.77}, 'france': {'capital': 'paris', 'population': 66.03}, 'germany': {'capital': 'berlin', 'population': 80.62}, 'norway': {'capital': 'oslo', 'population': 5.084}, 'italy': {'capital': 'roma', 'population': 59.83}}\n"
     ]
    }
   ],
   "source": [
    "# 作业1\n",
    "europe = { 'spain': { 'capital':'madrid', 'population':46.77 },\n",
    "'france': { 'capital':'paris', 'population':66.03 },\n",
    "'germany': { 'capital':'berlin', 'population':80.62 },\n",
    "'norway': { 'capital':'oslo', 'population':5.084 } }\n",
    "\n",
    "# 1 打印法国首都\n",
    "print(europe['france']['capital'])\n",
    "\n",
    "# 2 加入意大利（italy）的首都（roma）和人口（population 59.83）\n",
    "europe['italy'] = { 'capital': 'roma', 'population': 59.83 }\n",
    "\n",
    "print(europe)"
   ]
  },
  {
   "cell_type": "code",
   "execution_count": 2,
   "metadata": {},
   "outputs": [
    {
     "name": "stdout",
     "output_type": "stream",
     "text": [
      "624\n",
      "6\n"
     ]
    }
   ],
   "source": [
    "# 作业2 \n",
    "# 找出两个整数48、78的最小公倍数\n",
    "def lcm(x, y):\n",
    "    big, small = max(x, y), min(x, y)    \n",
    "    while big % small != 0:\n",
    "        big += big        \n",
    "    return big\n",
    "\n",
    "print(lcm(48, 78))\n",
    "\n",
    "# 找出两个整数48、78的最大公约数\n",
    "def gcd(n1, n2):\n",
    "    n = min(n1, n2)\n",
    "    while n1 % n != 0 or n2 % n != 0:\n",
    "        n -= 1\n",
    "    return n\n",
    "\n",
    "print(gcd(48, 78))"
   ]
  },
  {
   "cell_type": "code",
   "execution_count": 3,
   "metadata": {},
   "outputs": [
    {
     "name": "stdout",
     "output_type": "stream",
     "text": [
      "输入年利率，比如，8.25: 8.25\n",
      "输入整数贷款年限, 比如, 5: 5\n",
      "输入贷款， 比如，10000: 10000\n",
      "月付: 203.96251665314145 还款总额: 12237.750999188487\n"
     ]
    }
   ],
   "source": [
    "# 作业3 贷款月供计算器，具体要求参见图片\n",
    "def mortgage_calculator():\n",
    "    # 输入年利率\n",
    "    annualInterestRate = float(input(\"输入年利率，比如，8.25: \")) \n",
    "    # 转化为月利率\n",
    "    monthlyInterestRate = annualInterestRate / 1200 \n",
    "    # 输入贷款年限\n",
    "    numberOfYears = int(input(\"输入整数贷款年限, 比如, 5: \"))\n",
    "    # 输入贷款额\n",
    "    total = float(input(\"输入贷款， 比如，10000: \"))\n",
    "    \n",
    "    monthPay = total * (monthlyInterestRate / (1 - (1 / (1 + monthlyInterestRate)**(numberOfYears * 12))))\n",
    "    print('月付:', monthPay, '还款总额:', monthPay*numberOfYears*12)\n",
    "    \n",
    "mortgage_calculator()"
   ]
  },
  {
   "cell_type": "code",
   "execution_count": null,
   "metadata": {
    "collapsed": true
   },
   "outputs": [],
   "source": []
  }
 ],
 "metadata": {
  "kernelspec": {
   "display_name": "Python 3",
   "language": "python",
   "name": "python3"
  },
  "language_info": {
   "codemirror_mode": {
    "name": "ipython",
    "version": 3
   },
   "file_extension": ".py",
   "mimetype": "text/x-python",
   "name": "python",
   "nbconvert_exporter": "python",
   "pygments_lexer": "ipython3",
   "version": "3.6.1"
  }
 },
 "nbformat": 4,
 "nbformat_minor": 2
}
